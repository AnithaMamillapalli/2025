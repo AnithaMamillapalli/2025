{
 "cells": [
  {
   "cell_type": "code",
   "execution_count": 1,
   "id": "b72c2334",
   "metadata": {},
   "outputs": [],
   "source": [
    "# importing libraries\n",
    "import cv2\n",
    "import matplotlib.pyplot as plt\n",
    "import matplotlib as mpl\n",
    "import numpy as np\n",
    "import os\n",
    "import matplotlib.patches as mpatches\n",
    "import colorcet as cc\n",
    "mpl.rcParams['font.family'] = 'Times New Roman'"
   ]
  },
  {
   "cell_type": "code",
   "execution_count": 2,
   "id": "8cf5758f",
   "metadata": {},
   "outputs": [],
   "source": [
    "brits = [] # limits of noise level, tuned for each image"
   ]
  },
  {
   "cell_type": "code",
   "execution_count": null,
   "id": "95ddf19d",
   "metadata": {},
   "outputs": [],
   "source": [
    "imgs = []\n",
    "bin_imgs = []\n",
    "outers = []\n",
    "names = []\n",
    "i = 0\n",
    "for file in sorted(os.listdir('data')):# looping through files in the folder\n",
    "    if '.tif' in file: # checking image format\n",
    "        img = cv2.imread(os.path.join('data', file), cv2.IMREAD_GRAYSCALE)\n",
    "        bin_img = (img > brits[i]) * 255\n",
    "        i += 1\n",
    "        # using big kernel size to find most prominent edges\n",
    "        sobelx = cv2.Sobel(bin_img.astype(np.float64), cv2.CV_64F, 1, 0, ksize=7)\n",
    "        sobely = cv2.Sobel(bin_img.astype(np.float64), cv2.CV_64F, 0, 1, ksize=7)\n",
    "        sobel_mag = cv2.magnitude(sobelx, sobely)\n",
    "        sobel_mag_uint8 = cv2.convertScaleAbs(sobel_mag)\n",
    "        _, binary_edges = cv2.threshold(sobel_mag_uint8, 50, 255, cv2.THRESH_BINARY)\n",
    "        contours, _ = cv2.findContours(binary_edges, cv2.RETR_TREE, cv2.CHAIN_APPROX_SIMPLE)\n",
    "        contours_sorted = sorted(contours, key=cv2.contourArea, reverse=True)\n",
    "        outer = contours_sorted[0]\n",
    "        # performing morphological closing operations for certain boundaries that weere not fully formed\n",
    "        if i in [10, 16]:\n",
    "            sobelx = cv2.Sobel(img.astype(np.float64), cv2.CV_64F, 1, 0, ksize=7)\n",
    "            sobely = cv2.Sobel(img.astype(np.float64), cv2.CV_64F, 0, 1, ksize=7)\n",
    "            sobel_mag = cv2.magnitude(sobelx, sobely)\n",
    "            sobel_mag_uint8 = cv2.convertScaleAbs(sobel_mag)\n",
    "            _, binary_edges = cv2.threshold(sobel_mag_uint8, 50, 255, cv2.THRESH_BINARY)\n",
    "            kernel = np.ones((5, 5), np.uint8)\n",
    "            opened_edges = cv2.morphologyEx(binary_edges, cv2.MORPH_OPEN, kernel)\n",
    "            closed_edges = cv2.morphologyEx(opened_edges, cv2.MORPH_CLOSE, kernel)\n",
    "            contours, _ = cv2.findContours(closed_edges, cv2.RETR_EXTERNAL, cv2.CHAIN_APPROX_SIMPLE)\n",
    "            contours_sorted = sorted(contours, key=cv2.contourArea, reverse=True)\n",
    "            outer = contours_sorted[0]\n",
    "        imgs.append(img)\n",
    "        bin_imgs.append(bin_img)\n",
    "        outers.append(outer)\n",
    "        names.append(file)\n",
    "\n",
    "# plotting resutls in a grid\n",
    "fig, axes = plt.subplots(nrows=18, ncols=1, figsize=(11, 5 * 18))\n",
    "cmap = plt.get_cmap('cet_bgy')\n",
    "\n",
    "for i in range(18):\n",
    "    axes[i].imshow(imgs[i], cmap='gray')\n",
    "    axes[i].axis('off')\n",
    "    axes[i].set_title(names[i].split('_')[0])\n",
    "\n",
    "    edge = np.zeros_like(imgs[i])\n",
    "    cv2.drawContours(edge, outers[i], -1, (255), thickness=5)\n",
    "    axes[i].imshow(edge, cmap=cmap, alpha=0.5)\n",
    "\n",
    "plt.tight_layout()\n",
    "plt.show()"
   ]
  }
 ],
 "metadata": {
  "kernelspec": {
   "display_name": "Python 3",
   "language": "python",
   "name": "python3"
  },
  "language_info": {
   "codemirror_mode": {
    "name": "ipython",
    "version": 3
   },
   "file_extension": ".py",
   "mimetype": "text/x-python",
   "name": "python",
   "nbconvert_exporter": "python",
   "pygments_lexer": "ipython3",
   "version": "3.11.9"
  }
 },
 "nbformat": 4,
 "nbformat_minor": 5
}
