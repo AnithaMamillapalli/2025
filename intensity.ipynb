{
 "cells": [
  {
   "cell_type": "code",
   "execution_count": null,
   "id": "d4d039db",
   "metadata": {},
   "outputs": [],
   "source": [
    "# import libraries\n",
    "import cv2\n",
    "import matplotlib.pyplot as plt\n",
    "import matplotlib as mpl\n",
    "import colorcet as cc\n",
    "import numpy as np\n",
    "import matplotlib.gridspec as gridspec\n",
    "import os\n",
    "mpl.rcParams['font.family'] = 'Times New Roman'"
   ]
  },
  {
   "cell_type": "code",
   "execution_count": null,
   "id": "a20fcebc",
   "metadata": {},
   "outputs": [],
   "source": [
    "# basis forms the minimum value of pixel to highlight\n",
    "basiss = ['7C1', '7C2', '7C3']\n",
    "# color map from color cet library\n",
    "cmap = plt.get_cmap(\"cet_fire\")"
   ]
  },
  {
   "cell_type": "code",
   "execution_count": null,
   "id": "9da14a9e",
   "metadata": {},
   "outputs": [],
   "source": [
    "# opening image and setting threeshold\n",
    "day_7s = []\n",
    "day_9s = []\n",
    "day_11s = []\n",
    "for basis in basiss:\n",
    "    day_7 = cv2.imread(f\"hdata/{basis}_BLUE.tif\", cv2.IMREAD_GRAYSCALE)\n",
    "    day_9 = cv2.imread(f\"hdata/{basis.replace('7', '9')}_BLUE.tif\", cv2.IMREAD_GRAYSCALE)\n",
    "    day_11 = cv2.imread(f\"hdata/{basis.replace('7', '11')}_BLUE.tif\", cv2.IMREAD_GRAYSCALE)\n",
    "    threshold = day_7[day_7 > 0].mean()\n",
    "    day_9 = np.where(day_9 > threshold, day_9, 0)\n",
    "    day_11 = np.where(day_11 > threshold, day_11, 0)\n",
    "    day_7s.append(day_7)\n",
    "    day_9s.append(day_9)\n",
    "    day_11s.append(day_11)\n",
    "    day_7 = cv2.imread(f\"hdata/{basis.replace('C', 'S')}_BLUE.tif\", cv2.IMREAD_GRAYSCALE)\n",
    "    day_9 = cv2.imread(f\"hdata/{basis.replace('C', 'S').replace('7', '9')}_BLUE.tif\", cv2.IMREAD_GRAYSCALE)\n",
    "    day_11 = cv2.imread(f\"hdata/{basis.replace('C', 'S').replace('7', '11')}_BLUE.tif\", cv2.IMREAD_GRAYSCALE)\n",
    "    day_7 = np.where(day_7 > threshold, day_7, 0)\n",
    "    day_9 = np.where(day_9 > threshold, day_9, 0)\n",
    "    day_11 = np.where(day_11 > threshold, day_11, 0)\n",
    "    day_7s.append(day_7)\n",
    "    day_9s.append(day_9)\n",
    "    day_11s.append(day_11)\n",
    "\n",
    "# plotting images\n",
    "fig, axes = plt.subplots(nrows=6, ncols=3, figsize=(15, 30))\n",
    "for i, (day_7, day_9, day_11) in enumerate(zip(day_7s, day_9s, day_11s)):\n",
    "    if i%2 == 0:\n",
    "        vmax = day_11s[i+1].max()\n",
    "        \n",
    "        axes[i, 0].imshow(day_7, cmap='gray')\n",
    "        axes[i, 0].set_title(basiss[i//2])\n",
    "        axes[i, 0].axis('off')\n",
    "        \n",
    "        im9 = axes[i, 1].imshow(day_9, cmap=cmap, vmax=vmax)\n",
    "        axes[i, 1].set_title(basiss[i//2].replace('7', '9'))\n",
    "        axes[i, 1].axis('off')\n",
    "\n",
    "        im11 = axes[i, 2].imshow(day_11, cmap=cmap, vmax=vmax)\n",
    "        axes[i, 2].set_title(basiss[i//2].replace('7', '11'))\n",
    "        axes[i, 2].axis('off')\n",
    "    else:\n",
    "        vmax = day_11.max()\n",
    "        \n",
    "        im7 = axes[i, 0].imshow(day_7, cmap=cmap, vmax=vmax)\n",
    "        axes[i, 0].set_title(basiss[i//2].replace('C', 'S'))\n",
    "        axes[i, 0].axis('off')\n",
    "        \n",
    "        im9 = axes[i, 1].imshow(day_9, cmap=cmap, vmax=vmax)\n",
    "        axes[i, 1].set_title(basiss[i//2].replace('C', 'S').replace('7', '9'))\n",
    "        axes[i, 1].axis('off')\n",
    "\n",
    "        im11 = axes[i, 2].imshow(day_11, cmap=cmap, vmax=vmax)\n",
    "        axes[i, 2].set_title(basiss[i//2].replace('C', 'S').replace('7', '11'))\n",
    "        axes[i, 2].axis('off')\n",
    "    \n",
    "plt.tight_layout()\n",
    "plt.show()"
   ]
  }
 ],
 "metadata": {
  "kernelspec": {
   "display_name": "Python 3",
   "language": "python",
   "name": "python3"
  },
  "language_info": {
   "codemirror_mode": {
    "name": "ipython",
    "version": 3
   },
   "file_extension": ".py",
   "mimetype": "text/x-python",
   "name": "python",
   "nbconvert_exporter": "python",
   "pygments_lexer": "ipython3",
   "version": "3.11.9"
  }
 },
 "nbformat": 4,
 "nbformat_minor": 5
}
